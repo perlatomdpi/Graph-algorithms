{
  "nbformat": 4,
  "nbformat_minor": 0,
  "metadata": {
    "colab": {
      "name": "Weighted-Jaccard.ipynb",
      "provenance": [],
      "collapsed_sections": [],
      "toc_visible": true,
      "authorship_tag": "ABX9TyPJWRNU2UTb9IVytquSMulP",
      "include_colab_link": true
    },
    "kernelspec": {
      "name": "python3",
      "display_name": "Python 3"
    },
    "accelerator": "GPU"
  },
  "cells": [
    {
      "cell_type": "markdown",
      "metadata": {
        "id": "view-in-github",
        "colab_type": "text"
      },
      "source": [
        "<a href=\"https://colab.research.google.com/github/perlatomdpi/Graph-algorithms/blob/main/Weighted_Jaccard.ipynb\" target=\"_parent\"><img src=\"https://colab.research.google.com/assets/colab-badge.svg\" alt=\"Open In Colab\"/></a>"
      ]
    },
    {
      "cell_type": "markdown",
      "metadata": {
        "id": "YDJBLbXAe8Ib"
      },
      "source": [
        "# **Weighted Jaccard Similarity**\n",
        "\n",
        "RAPIDS cuGraph is a library of graph algorithms that seamlessly integrates into the RAPIDS data science ecosystem and allows to easily call graph algorithms using data stored in a **GPU DataFrame**. <br>\n",
        "\n",
        "Algorithm optimized for single-GPU analytics: <br>\n",
        "**Jaccard Similarity**: a measure of neighbourhood similarity between connected vertices. Within recommendations systems, this is very useful for finding customers with similar behaviour. <br>\n",
        "\n",
        "References: https://research.nvidia.com/publication/2017-11_Parallel-Jaccard-and\n",
        "\n"
      ]
    },
    {
      "cell_type": "markdown",
      "metadata": {
        "id": "YYJUirAUgvqM"
      },
      "source": [
        "# Initialize project"
      ]
    },
    {
      "cell_type": "code",
      "metadata": {
        "id": "T_c4x2lDew31"
      },
      "source": [
        "#==============================================================================\n",
        "# CHECK GPU\n",
        "#==============================================================================\n",
        "# Runtime -> Change runtime type -> GPU \n",
        "# Has to be RAPIDS compatible: \n",
        "# If not terminate and restart session\n",
        "!nvidia-smi"
      ],
      "execution_count": null,
      "outputs": []
    },
    {
      "cell_type": "code",
      "metadata": {
        "id": "26UXSy1lgt-s"
      },
      "source": [
        "#==============================================================================\n",
        "# GPUs should be connected with NVlink\n",
        "#==============================================================================\n",
        "!nvidia-smi nvlink --status"
      ],
      "execution_count": null,
      "outputs": []
    },
    {
      "cell_type": "code",
      "metadata": {
        "id": "Gxftr0Acg8ir"
      },
      "source": [
        "#==============================================================================\n",
        "# INSTALL RAPIDS\n",
        "#==============================================================================\n",
        "!git clone https://github.com/rapidsai/rapidsai-csp-utils.git\n",
        "!bash rapidsai-csp-utils/colab/rapids-colab.sh stable\n",
        "\n",
        "import sys, os\n",
        "\n",
        "dist_package_index = sys.path.index('/usr/local/lib/python3.6/dist-packages')\n",
        "sys.path = sys.path[:dist_package_index] + ['/usr/local/lib/python3.6/site-packages'] + sys.path[dist_package_index:]\n",
        "sys.path\n",
        "exec(open('rapidsai-csp-utils/colab/update_modules.py').read(), globals())"
      ],
      "execution_count": null,
      "outputs": []
    },
    {
      "cell_type": "code",
      "metadata": {
        "id": "7ICIPRjphAGu"
      },
      "source": [
        "# Import needed libraries\n",
        "import cugraph\n",
        "import cudf\n",
        "from collections import OrderedDict"
      ],
      "execution_count": null,
      "outputs": []
    },
    {
      "cell_type": "markdown",
      "metadata": {
        "id": "9BMV2YjnoqY0"
      },
      "source": [
        "# Read the data as cuDF"
      ]
    },
    {
      "cell_type": "code",
      "metadata": {
        "id": "E4VICCXHk9Wm"
      },
      "source": [
        "# Test file  \n",
        "datafile='../data/networks/karate-data.csv'\n",
        "\n",
        "# Read the data file\n",
        "cols = [\"src\", \"dst\"]\n",
        "\n",
        "dtypes = OrderedDict([\n",
        "        (\"src\", \"int32\"), \n",
        "        (\"dst\", \"int32\")\n",
        "        ])\n",
        "\n",
        "gdf = cudf.read_csv(datafile, names=cols, delimiter='\\t', dtype=list(dtypes.values()) )"
      ],
      "execution_count": null,
      "outputs": []
    },
    {
      "cell_type": "code",
      "metadata": {
        "id": "Ht_X56dooaUH"
      },
      "source": [
        "# Adjust the vertex ID\n",
        "gdf[\"src_0\"] = gdf[\"src\"] - 1\n",
        "gdf[\"dst_0\"] = gdf[\"dst\"] - 1"
      ],
      "execution_count": null,
      "outputs": []
    },
    {
      "cell_type": "code",
      "metadata": {
        "id": "up22PcOfpbir"
      },
      "source": [
        "# Create a Graph \n",
        "G = cugraph.Graph()\n",
        "G.add_edge_list(gdf[\"src_0\"], gdf[\"dst_0\"])"
      ],
      "execution_count": null,
      "outputs": []
    },
    {
      "cell_type": "markdown",
      "metadata": {
        "id": "-7RLRIj6qIDi"
      },
      "source": [
        "# Compute PageRankand use as vertex weights"
      ]
    },
    {
      "cell_type": "code",
      "metadata": {
        "id": "SAu7uWDqqOTq"
      },
      "source": [
        "# Call Pagerank on the graph to get weights to use:\n",
        "pr_df = cugraph.pagerank(G)"
      ],
      "execution_count": null,
      "outputs": []
    },
    {
      "cell_type": "markdown",
      "metadata": {
        "id": "s76Bt9LRqdkW"
      },
      "source": [
        "# Compute the Weighted Jaccard"
      ]
    },
    {
      "cell_type": "code",
      "metadata": {
        "id": "ca8IIvEwqWj4"
      },
      "source": [
        "# Compute weighted Jaccard using the Pagerank scores as weights:\n",
        "df = cugraph.nvJaccard_w(G, pr_df['pagerank'])"
      ],
      "execution_count": null,
      "outputs": []
    },
    {
      "cell_type": "code",
      "metadata": {
        "id": "9flGQ1fHq1VA"
      },
      "source": [
        "# Find the most similar pair of vertices - adjust the vertex ID by adding 1 to match illustration\n",
        "bestEdge = 0\n",
        "for i in range(len(df)):\n",
        "    if df['jaccard_coeff'][i] > df['jaccard_coeff'][bestEdge]:\n",
        "        bestEdge = i\n",
        "        \n",
        "print(\"Vertices \" + str(df['source'][bestEdge] +1) + \n",
        "      \" and \" + str(df['destination'][bestEdge] + 1) + \n",
        "      \" are most similar with score: \" + str(df['jaccard_coeff'][bestEdge]))"
      ],
      "execution_count": null,
      "outputs": []
    }
  ]
}