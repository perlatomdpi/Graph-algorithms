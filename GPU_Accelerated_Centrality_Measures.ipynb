{
  "nbformat": 4,
  "nbformat_minor": 0,
  "metadata": {
    "colab": {
      "name": "GPU-Accelerated-Centrality-Measures.ipynb",
      "provenance": [],
      "collapsed_sections": [],
      "toc_visible": true,
      "authorship_tag": "ABX9TyNA05vQzQ+v9lKiAgaz1MtA",
      "include_colab_link": true
    },
    "kernelspec": {
      "name": "python3",
      "display_name": "Python 3"
    }
  },
  "cells": [
    {
      "cell_type": "markdown",
      "metadata": {
        "id": "view-in-github",
        "colab_type": "text"
      },
      "source": [
        "<a href=\"https://colab.research.google.com/github/perlatomdpi/Graph-algorithms/blob/main/GPU_Accelerated_Centrality_Measures.ipynb\" target=\"_parent\"><img src=\"https://colab.research.google.com/assets/colab-badge.svg\" alt=\"Open In Colab\"/></a>"
      ]
    },
    {
      "cell_type": "markdown",
      "metadata": {
        "id": "FlrjoxG5IJry"
      },
      "source": [
        "# **Accelerated Centrality Measures**\n",
        "Computing graph statistics such as centrality (cugraph) <br>\n",
        "Filtering to interesting subgraphs using the statistics (cudf) <br>"
      ]
    },
    {
      "cell_type": "code",
      "metadata": {
        "id": "F7VSwWGIG87f"
      },
      "source": [
        "# **Accelerated Centrality Measures**\n",
        "Computing graph statistics such as centrality (cugraph)"
      ],
      "execution_count": null,
      "outputs": []
    },
    {
      "cell_type": "markdown",
      "metadata": {
        "id": "zyaKKWVsIdmg"
      },
      "source": [
        "# **Load data**"
      ]
    },
    {
      "cell_type": "code",
      "metadata": {
        "id": "2Y20DZgFIiaX"
      },
      "source": [
        "# Load as cuDF\n",
        "df = cudf.read_csv('../Data/my_data.csv')\n",
        "\n",
        "# Create DF\n",
        "df = pd.DataFrame(df)"
      ],
      "execution_count": null,
      "outputs": []
    },
    {
      "cell_type": "markdown",
      "metadata": {
        "id": "0iWmb3hQJNzL"
      },
      "source": [
        "# **Largest Component via Networkx**"
      ]
    },
    {
      "cell_type": "code",
      "metadata": {
        "id": "Mf7T-qMBIs1X"
      },
      "source": [
        "# Configure the Graph\n",
        "G = nx.nx.from_pandas_edgelist(df, 'unique', 'article_id', edge_attr=True)\n",
        "\n",
        "# Calculate giant component via networkx\n",
        "G = sorted(nx.connected_components(G), key=len, reverse=True)\n",
        "G0 = iG.subgraph(gG[0])"
      ],
      "execution_count": null,
      "outputs": []
    },
    {
      "cell_type": "markdown",
      "metadata": {
        "id": "SJQa8RbPJb6p"
      },
      "source": [
        "# **Conveet Giant Component to Pandas**"
      ]
    },
    {
      "cell_type": "code",
      "metadata": {
        "id": "gQdDXzKiJViH"
      },
      "source": [
        "# Convert Giant Component G0 to a dataset\n",
        "edgelist = nx.to_edgelist(G0)\n",
        "source = [s for s, t, d in edgelist]\n",
        "target = [t for s, t, d in edgelist]\n",
        "weight = [d['weight'] for s, t, d in edgelist]\n",
        "\n",
        "edges = pd.DataFrame({'source': source,\n",
        "                      'target': target,\n",
        "                      'weight': weight})"
      ],
      "execution_count": null,
      "outputs": []
    },
    {
      "cell_type": "markdown",
      "metadata": {
        "id": "WoX6IJy5JqAc"
      },
      "source": [
        "# **CREATE cuGRAPH and list of NODES**"
      ]
    },
    {
      "cell_type": "code",
      "metadata": {
        "id": "xXGSpeSMJje_"
      },
      "source": [
        "# cuGraph depends on cuDF for data loading\n",
        "gdf = cudf.from_pandas(edges)"
      ],
      "execution_count": null,
      "outputs": []
    },
    {
      "cell_type": "code",
      "metadata": {
        "id": "whfSKyRnJs-K"
      },
      "source": [
        "def edges_to_cugraph(df, src_col, dst_col, drop_self_loops=False):\n",
        "    \n",
        "    # Drop self loop\n",
        "    if drop_self_loops:\n",
        "        df = df.copy(deep=False)\n",
        "        df = df[ ~(df[src_col] == df[dst_col]) ]\n",
        "\n",
        "    # Create list of nodes\n",
        "    nodes_gdf = cudf.DataFrame({\n",
        "        'id': cudf.concat([ df[src_col], df[dst_col] ], ignore_index=True, sort=False).unique()\n",
        "    })\n",
        "    nodes_gdf['idx'] = arange(0, len(nodes_gdf), dtype='int32')\n",
        "    \n",
        "    # Create cuGraph\n",
        "    edges_gdf = df[[src_col, dst_col]]\\\n",
        "        .merge(\n",
        "            nodes_gdf.rename(columns={'idx': 'src_idx'}, copy=False),\n",
        "            left_on=src_col, right_on='id')\\\n",
        "        .merge(\n",
        "            nodes_gdf.rename(columns={'idx': 'dst_idx'}, copy=False),\n",
        "            left_on=dst_col, right_on='id')\n",
        "    \n",
        "    G = cugraph.Graph()\n",
        "    G.from_cudf_edgelist(edges_gdf, source='src_idx', destination='dst_idx')\n",
        "    \n",
        "    return nodes_gdf, G"
      ],
      "execution_count": null,
      "outputs": []
    },
    {
      "cell_type": "code",
      "metadata": {
        "id": "U41_k8AgJvTk"
      },
      "source": [
        "(nodes_gdf, G) = edges_to_cugraph(gdf, 'source', 'target', drop_self_loops=False)"
      ],
      "execution_count": null,
      "outputs": []
    },
    {
      "cell_type": "markdown",
      "metadata": {
        "id": "IfZFjlwFJy1t"
      },
      "source": [
        "# **Centrality Measures via cuGraph**"
      ]
    },
    {
      "cell_type": "code",
      "metadata": {
        "id": "NmzGRp6OJ-FM"
      },
      "source": [
        "# Create new column stats\n",
        "def with_vertex_calc(nodes_gdf, g_out, node_col='idx', computed_idx='vertex', computed_col='label', new_col=None):\n",
        "\n",
        "    #print('got cols', nodes_gdf.columns, g_out.columns)\n",
        "    if new_col is None:\n",
        "        new_col = computed_col\n",
        "        \n",
        "    return nodes_gdf.merge(\n",
        "        g_out[[computed_idx, computed_col]].rename(columns={\n",
        "                computed_idx: node_col,\n",
        "                computed_col: new_col\n",
        "            }, copy=False),\n",
        "        how='left',\n",
        "        on=node_col)"
      ],
      "execution_count": null,
      "outputs": []
    },
    {
      "cell_type": "code",
      "metadata": {
        "id": "DFxrgzF_KCLh"
      },
      "source": [
        "# Calculate the size \n",
        "def size_by_col(nodes_gdf, col):\n",
        "    #gdf[[col, <col>_size]]\n",
        "    group_size = nodes_gdf[['idx', col]].groupby(col).count().reset_index().rename(columns={'idx': f'{col}_size'})\n",
        "    return nodes_gdf.merge(group_size, how='left', on=col)"
      ],
      "execution_count": null,
      "outputs": []
    },
    {
      "cell_type": "code",
      "metadata": {
        "id": "LfwitOeWKHgr"
      },
      "source": [
        "# Create stats\n",
        "def decorate_graph(G, nodes_gdf):\n",
        "    \n",
        "    nodes_gdf = nodes_gdf.copy(deep=False)\n",
        "\n",
        "    print('pagerank')\n",
        "    nodes_gdf = with_vertex_calc(nodes_gdf, cugraph.pagerank(G), computed_col='pagerank')\n",
        "    \n",
        "    print('hit')\n",
        "    nodes_gdf = with_vertex_calc(nodes_gdf, cugraph.hits(G), computed_col='hubs')\n",
        "\n",
        "    print('katz')\n",
        "    nodes_gdf = with_vertex_calc(nodes_gdf, cugraph.katz_centrality(G, alpha=0.01), computed_col='katz_centrality')\n",
        "\n",
        "    print('bc')\n",
        "    nodes_gdf = with_vertex_calc(nodes_gdf, cugraph.betweenness_centrality(G, k = 5000, seed = 123), computed_col='betweenness_centrality')\n",
        "\n",
        "    print('louvain')\n",
        "    nodes_gdf = with_vertex_calc(nodes_gdf, cugraph.louvain(G)[0], computed_col='partition', new_col='louvain')\n",
        "    \n",
        "    print('...with size')\n",
        "    nodes_gdf = size_by_col(nodes_gdf, 'louvain')\n",
        "\n",
        "    print('weakcc')\n",
        "    nodes_gdf = with_vertex_calc(nodes_gdf, cugraph.weakly_connected_components(G),\n",
        "                                 computed_idx='vertices',\n",
        "                                 computed_col='labels', new_col='community_weak')\n",
        "\n",
        "    print('...with size')\n",
        "    nodes_gdf = size_by_col(nodes_gdf, 'community_weak')\n",
        "\n",
        "    print('core_number')\n",
        "    nodes_gdf = with_vertex_calc(nodes_gdf, cugraph.core_number(G), computed_col='core_number')\n",
        "    \n",
        "    print('...with size')\n",
        "    nodes_gdf = size_by_col(nodes_gdf, 'core_number')\n",
        "\n",
        "    print('degree')\n",
        "    nodes_gdf = with_vertex_calc(nodes_gdf, G.degree().assign(vertex=nodes_gdf['idx']), computed_col='degree')\n",
        "\n",
        "    print('degrees')\n",
        "    degrees = G.degrees()\n",
        "    \n",
        "    print('in_degree')\n",
        "    nodes_gdf = with_vertex_calc(nodes_gdf, degrees, computed_col='in_degree')\n",
        "\n",
        "    print('out_degree')\n",
        "    nodes_gdf = with_vertex_calc(nodes_gdf, degrees, computed_col='out_degree')\n",
        "\n",
        "    return nodes_gdf"
      ],
      "execution_count": null,
      "outputs": []
    },
    {
      "cell_type": "code",
      "metadata": {
        "id": "CD0b67KOKLGY"
      },
      "source": [
        "nodes_decorated_gdf = decorate_graph(G, nodes_gdf)"
      ],
      "execution_count": null,
      "outputs": []
    },
    {
      "cell_type": "code",
      "metadata": {
        "id": "Phq1s5k9KRkC"
      },
      "source": [
        "#  Range of stats\n",
        "'min/max node katz_centrality', nodes_decorated_gdf['hubs'].min(), nodes_decorated_gdf['hubs'].max()"
      ],
      "execution_count": null,
      "outputs": []
    },
    {
      "cell_type": "code",
      "metadata": {
        "id": "dHG7RMdIKThF"
      },
      "source": [
        "# Top 15 authors by stats\n",
        "nodes_decorated_gdf.sort_values(by='hubs', ascending=False).head(15) "
      ],
      "execution_count": null,
      "outputs": []
    }
  ]
}